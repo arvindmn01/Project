{
 "cells": [
  {
   "cell_type": "code",
   "execution_count": 1,
   "id": "caae44b1",
   "metadata": {},
   "outputs": [],
   "source": [
    "import pandas as pd\n"
   ]
  },
  {
   "cell_type": "code",
   "execution_count": 2,
   "id": "2c6a5fde",
   "metadata": {},
   "outputs": [],
   "source": [
    "df=pd.read_excel('clean_data_.xlsx')"
   ]
  },
  {
   "cell_type": "code",
   "execution_count": 3,
   "id": "deb985cc",
   "metadata": {
    "scrolled": true
   },
   "outputs": [
    {
     "data": {
      "text/html": [
       "<div>\n",
       "<style scoped>\n",
       "    .dataframe tbody tr th:only-of-type {\n",
       "        vertical-align: middle;\n",
       "    }\n",
       "\n",
       "    .dataframe tbody tr th {\n",
       "        vertical-align: top;\n",
       "    }\n",
       "\n",
       "    .dataframe thead th {\n",
       "        text-align: right;\n",
       "    }\n",
       "</style>\n",
       "<table border=\"1\" class=\"dataframe\">\n",
       "  <thead>\n",
       "    <tr style=\"text-align: right;\">\n",
       "      <th></th>\n",
       "      <th>project_name</th>\n",
       "      <th>spec</th>\n",
       "      <th>floor</th>\n",
       "      <th>area</th>\n",
       "      <th>value</th>\n",
       "    </tr>\n",
       "  </thead>\n",
       "  <tbody>\n",
       "    <tr>\n",
       "      <th>0</th>\n",
       "      <td>Pride Purple Park Grandeur</td>\n",
       "      <td>4 BHK Apartment</td>\n",
       "      <td>Higherof 25 floors</td>\n",
       "      <td>3000 sq.ft</td>\n",
       "      <td>4.5 Cr</td>\n",
       "    </tr>\n",
       "    <tr>\n",
       "      <th>1</th>\n",
       "      <td>Rahul Arcus Bldg E</td>\n",
       "      <td>4 BHK Apartment</td>\n",
       "      <td>Middleof 18 floors</td>\n",
       "      <td>2858 sq.ft</td>\n",
       "      <td>2.52 Cr</td>\n",
       "    </tr>\n",
       "    <tr>\n",
       "      <th>2</th>\n",
       "      <td>Paranjape Yuthika</td>\n",
       "      <td>2 BHK Apartment</td>\n",
       "      <td>Higherof 12 floors</td>\n",
       "      <td>1150 sq.ft</td>\n",
       "      <td>1.5 Cr</td>\n",
       "    </tr>\n",
       "    <tr>\n",
       "      <th>3</th>\n",
       "      <td>Pride Purple Park Grandeur</td>\n",
       "      <td>4 BHK Apartment</td>\n",
       "      <td>Higherof 25 floors</td>\n",
       "      <td>3000 sq.ft</td>\n",
       "      <td>4.5 Cr</td>\n",
       "    </tr>\n",
       "    <tr>\n",
       "      <th>4</th>\n",
       "      <td>Rahul Arcus Bldg E</td>\n",
       "      <td>4 BHK Apartment</td>\n",
       "      <td>Middleof 18 floors</td>\n",
       "      <td>2858 sq.ft</td>\n",
       "      <td>2.52 Cr</td>\n",
       "    </tr>\n",
       "    <tr>\n",
       "      <th>...</th>\n",
       "      <td>...</td>\n",
       "      <td>...</td>\n",
       "      <td>...</td>\n",
       "      <td>...</td>\n",
       "      <td>...</td>\n",
       "    </tr>\n",
       "    <tr>\n",
       "      <th>1856</th>\n",
       "      <td>Supreme Estia</td>\n",
       "      <td>3 BHK Apartment</td>\n",
       "      <td>Middleof 22 floors</td>\n",
       "      <td>1620 sq.ft</td>\n",
       "      <td>1.5 Cr</td>\n",
       "    </tr>\n",
       "    <tr>\n",
       "      <th>1857</th>\n",
       "      <td>Aditya Comfort Zone</td>\n",
       "      <td>2 BHK Apartment</td>\n",
       "      <td>Middleof 13 floors</td>\n",
       "      <td>1161 sq.ft</td>\n",
       "      <td>89.0 L</td>\n",
       "    </tr>\n",
       "    <tr>\n",
       "      <th>1858</th>\n",
       "      <td>Shilpa Rucha Homes</td>\n",
       "      <td>1 BHK Apartment</td>\n",
       "      <td>Lowerof 10 floors</td>\n",
       "      <td>675 sq.ft</td>\n",
       "      <td>55.0 L</td>\n",
       "    </tr>\n",
       "    <tr>\n",
       "      <th>1859</th>\n",
       "      <td>Supreme Estia</td>\n",
       "      <td>3 BHK Apartment</td>\n",
       "      <td>Middleof 19 floors</td>\n",
       "      <td>982 sq.ft</td>\n",
       "      <td>1.11 Cr</td>\n",
       "    </tr>\n",
       "    <tr>\n",
       "      <th>1860</th>\n",
       "      <td>Kalpataru Jade Residences</td>\n",
       "      <td>3 BHK Apartment</td>\n",
       "      <td>Middleof 20 floors</td>\n",
       "      <td>1350 sq.ft</td>\n",
       "      <td>1.8 Cr</td>\n",
       "    </tr>\n",
       "  </tbody>\n",
       "</table>\n",
       "<p>1861 rows × 5 columns</p>\n",
       "</div>"
      ],
      "text/plain": [
       "                    project_name             spec               floor  \\\n",
       "0     Pride Purple Park Grandeur  4 BHK Apartment  Higherof 25 floors   \n",
       "1             Rahul Arcus Bldg E  4 BHK Apartment  Middleof 18 floors   \n",
       "2              Paranjape Yuthika  2 BHK Apartment  Higherof 12 floors   \n",
       "3     Pride Purple Park Grandeur  4 BHK Apartment  Higherof 25 floors   \n",
       "4             Rahul Arcus Bldg E  4 BHK Apartment  Middleof 18 floors   \n",
       "...                          ...              ...                 ...   \n",
       "1856               Supreme Estia  3 BHK Apartment  Middleof 22 floors   \n",
       "1857         Aditya Comfort Zone  2 BHK Apartment  Middleof 13 floors   \n",
       "1858          Shilpa Rucha Homes  1 BHK Apartment   Lowerof 10 floors   \n",
       "1859               Supreme Estia  3 BHK Apartment  Middleof 19 floors   \n",
       "1860   Kalpataru Jade Residences  3 BHK Apartment  Middleof 20 floors   \n",
       "\n",
       "            area    value  \n",
       "0     3000 sq.ft   4.5 Cr  \n",
       "1     2858 sq.ft  2.52 Cr  \n",
       "2     1150 sq.ft   1.5 Cr  \n",
       "3     3000 sq.ft   4.5 Cr  \n",
       "4     2858 sq.ft  2.52 Cr  \n",
       "...          ...      ...  \n",
       "1856  1620 sq.ft   1.5 Cr  \n",
       "1857  1161 sq.ft   89.0 L  \n",
       "1858   675 sq.ft   55.0 L  \n",
       "1859   982 sq.ft  1.11 Cr  \n",
       "1860  1350 sq.ft   1.8 Cr  \n",
       "\n",
       "[1861 rows x 5 columns]"
      ]
     },
     "execution_count": 3,
     "metadata": {},
     "output_type": "execute_result"
    }
   ],
   "source": [
    "df"
   ]
  },
  {
   "cell_type": "code",
   "execution_count": null,
   "id": "51306b7b",
   "metadata": {},
   "outputs": [],
   "source": []
  },
  {
   "cell_type": "code",
   "execution_count": 4,
   "id": "f084917f",
   "metadata": {},
   "outputs": [
    {
     "data": {
      "text/plain": [
       "3 BHK Apartment                    867\n",
       "2 BHK Apartment                    542\n",
       "4 BHK Apartment                    352\n",
       "5 BHK Apartment                     60\n",
       "1 BHK Apartment                     20\n",
       "4 BHK Independent Builder Floor     11\n",
       "1 RK Apartment                       9\n",
       "Name: spec, dtype: int64"
      ]
     },
     "execution_count": 4,
     "metadata": {},
     "output_type": "execute_result"
    }
   ],
   "source": [
    "df.spec.value_counts()"
   ]
  },
  {
   "cell_type": "markdown",
   "id": "b2139a78",
   "metadata": {},
   "source": [
    "### remove the 1 Rk Apartment from data from spec"
   ]
  },
  {
   "cell_type": "code",
   "execution_count": 5,
   "id": "a3f401f7",
   "metadata": {},
   "outputs": [],
   "source": [
    "\n",
    "df1=df[(df.spec!='1 RK Apartment') & (df.spec!='4 BHK Independent Builder Floor')]"
   ]
  },
  {
   "cell_type": "code",
   "execution_count": 6,
   "id": "36cd8248",
   "metadata": {},
   "outputs": [
    {
     "data": {
      "text/html": [
       "<div>\n",
       "<style scoped>\n",
       "    .dataframe tbody tr th:only-of-type {\n",
       "        vertical-align: middle;\n",
       "    }\n",
       "\n",
       "    .dataframe tbody tr th {\n",
       "        vertical-align: top;\n",
       "    }\n",
       "\n",
       "    .dataframe thead th {\n",
       "        text-align: right;\n",
       "    }\n",
       "</style>\n",
       "<table border=\"1\" class=\"dataframe\">\n",
       "  <thead>\n",
       "    <tr style=\"text-align: right;\">\n",
       "      <th></th>\n",
       "      <th>project_name</th>\n",
       "      <th>spec</th>\n",
       "      <th>floor</th>\n",
       "      <th>area</th>\n",
       "      <th>value</th>\n",
       "    </tr>\n",
       "  </thead>\n",
       "  <tbody>\n",
       "    <tr>\n",
       "      <th>0</th>\n",
       "      <td>Pride Purple Park Grandeur</td>\n",
       "      <td>4 BHK Apartment</td>\n",
       "      <td>Higherof 25 floors</td>\n",
       "      <td>3000 sq.ft</td>\n",
       "      <td>4.5 Cr</td>\n",
       "    </tr>\n",
       "    <tr>\n",
       "      <th>1</th>\n",
       "      <td>Rahul Arcus Bldg E</td>\n",
       "      <td>4 BHK Apartment</td>\n",
       "      <td>Middleof 18 floors</td>\n",
       "      <td>2858 sq.ft</td>\n",
       "      <td>2.52 Cr</td>\n",
       "    </tr>\n",
       "    <tr>\n",
       "      <th>2</th>\n",
       "      <td>Paranjape Yuthika</td>\n",
       "      <td>2 BHK Apartment</td>\n",
       "      <td>Higherof 12 floors</td>\n",
       "      <td>1150 sq.ft</td>\n",
       "      <td>1.5 Cr</td>\n",
       "    </tr>\n",
       "    <tr>\n",
       "      <th>3</th>\n",
       "      <td>Pride Purple Park Grandeur</td>\n",
       "      <td>4 BHK Apartment</td>\n",
       "      <td>Higherof 25 floors</td>\n",
       "      <td>3000 sq.ft</td>\n",
       "      <td>4.5 Cr</td>\n",
       "    </tr>\n",
       "    <tr>\n",
       "      <th>4</th>\n",
       "      <td>Rahul Arcus Bldg E</td>\n",
       "      <td>4 BHK Apartment</td>\n",
       "      <td>Middleof 18 floors</td>\n",
       "      <td>2858 sq.ft</td>\n",
       "      <td>2.52 Cr</td>\n",
       "    </tr>\n",
       "  </tbody>\n",
       "</table>\n",
       "</div>"
      ],
      "text/plain": [
       "                 project_name             spec               floor  \\\n",
       "0  Pride Purple Park Grandeur  4 BHK Apartment  Higherof 25 floors   \n",
       "1          Rahul Arcus Bldg E  4 BHK Apartment  Middleof 18 floors   \n",
       "2           Paranjape Yuthika  2 BHK Apartment  Higherof 12 floors   \n",
       "3  Pride Purple Park Grandeur  4 BHK Apartment  Higherof 25 floors   \n",
       "4          Rahul Arcus Bldg E  4 BHK Apartment  Middleof 18 floors   \n",
       "\n",
       "         area    value  \n",
       "0  3000 sq.ft   4.5 Cr  \n",
       "1  2858 sq.ft  2.52 Cr  \n",
       "2  1150 sq.ft   1.5 Cr  \n",
       "3  3000 sq.ft   4.5 Cr  \n",
       "4  2858 sq.ft  2.52 Cr  "
      ]
     },
     "execution_count": 6,
     "metadata": {},
     "output_type": "execute_result"
    }
   ],
   "source": [
    "df1.head()"
   ]
  },
  {
   "cell_type": "markdown",
   "id": "7fbabe6c",
   "metadata": {},
   "source": [
    "### to use machine learning on this data we have to process this data, remove BHK Apartment from spec, Higher lower, middle and extra text from floor, sq.ft from area and change lakh into crore and then remove the cr and lakh"
   ]
  },
  {
   "cell_type": "code",
   "execution_count": 7,
   "id": "bfe389a6",
   "metadata": {},
   "outputs": [],
   "source": [
    "# remove the BHK Apartment from df\n",
    "import re\n",
    "df2=df1.copy()\n",
    "df2.spec=df2.spec.apply(lambda x: re.findall('\\d{1,3}',x)[0]).values"
   ]
  },
  {
   "cell_type": "code",
   "execution_count": 8,
   "id": "8d01a387",
   "metadata": {},
   "outputs": [],
   "source": [
    "# convert floor and area\n",
    "df2.floor=df2.floor.apply(lambda x:re.findall('\\d{1,3}',x)[0]).values\n",
    "df2.area=df2.area.apply(lambda x: x.replace(' sq.ft','')).values"
   ]
  },
  {
   "cell_type": "code",
   "execution_count": 9,
   "id": "be25b9ec",
   "metadata": {},
   "outputs": [
    {
     "data": {
      "text/html": [
       "<div>\n",
       "<style scoped>\n",
       "    .dataframe tbody tr th:only-of-type {\n",
       "        vertical-align: middle;\n",
       "    }\n",
       "\n",
       "    .dataframe tbody tr th {\n",
       "        vertical-align: top;\n",
       "    }\n",
       "\n",
       "    .dataframe thead th {\n",
       "        text-align: right;\n",
       "    }\n",
       "</style>\n",
       "<table border=\"1\" class=\"dataframe\">\n",
       "  <thead>\n",
       "    <tr style=\"text-align: right;\">\n",
       "      <th></th>\n",
       "      <th>project_name</th>\n",
       "      <th>spec</th>\n",
       "      <th>floor</th>\n",
       "      <th>area</th>\n",
       "      <th>value</th>\n",
       "    </tr>\n",
       "  </thead>\n",
       "  <tbody>\n",
       "    <tr>\n",
       "      <th>0</th>\n",
       "      <td>Pride Purple Park Grandeur</td>\n",
       "      <td>4</td>\n",
       "      <td>25</td>\n",
       "      <td>3000</td>\n",
       "      <td>4.5 Cr</td>\n",
       "    </tr>\n",
       "    <tr>\n",
       "      <th>1</th>\n",
       "      <td>Rahul Arcus Bldg E</td>\n",
       "      <td>4</td>\n",
       "      <td>18</td>\n",
       "      <td>2858</td>\n",
       "      <td>2.52 Cr</td>\n",
       "    </tr>\n",
       "    <tr>\n",
       "      <th>2</th>\n",
       "      <td>Paranjape Yuthika</td>\n",
       "      <td>2</td>\n",
       "      <td>12</td>\n",
       "      <td>1150</td>\n",
       "      <td>1.5 Cr</td>\n",
       "    </tr>\n",
       "    <tr>\n",
       "      <th>3</th>\n",
       "      <td>Pride Purple Park Grandeur</td>\n",
       "      <td>4</td>\n",
       "      <td>25</td>\n",
       "      <td>3000</td>\n",
       "      <td>4.5 Cr</td>\n",
       "    </tr>\n",
       "    <tr>\n",
       "      <th>4</th>\n",
       "      <td>Rahul Arcus Bldg E</td>\n",
       "      <td>4</td>\n",
       "      <td>18</td>\n",
       "      <td>2858</td>\n",
       "      <td>2.52 Cr</td>\n",
       "    </tr>\n",
       "    <tr>\n",
       "      <th>...</th>\n",
       "      <td>...</td>\n",
       "      <td>...</td>\n",
       "      <td>...</td>\n",
       "      <td>...</td>\n",
       "      <td>...</td>\n",
       "    </tr>\n",
       "    <tr>\n",
       "      <th>1856</th>\n",
       "      <td>Supreme Estia</td>\n",
       "      <td>3</td>\n",
       "      <td>22</td>\n",
       "      <td>1620</td>\n",
       "      <td>1.5 Cr</td>\n",
       "    </tr>\n",
       "    <tr>\n",
       "      <th>1857</th>\n",
       "      <td>Aditya Comfort Zone</td>\n",
       "      <td>2</td>\n",
       "      <td>13</td>\n",
       "      <td>1161</td>\n",
       "      <td>89.0 L</td>\n",
       "    </tr>\n",
       "    <tr>\n",
       "      <th>1858</th>\n",
       "      <td>Shilpa Rucha Homes</td>\n",
       "      <td>1</td>\n",
       "      <td>10</td>\n",
       "      <td>675</td>\n",
       "      <td>55.0 L</td>\n",
       "    </tr>\n",
       "    <tr>\n",
       "      <th>1859</th>\n",
       "      <td>Supreme Estia</td>\n",
       "      <td>3</td>\n",
       "      <td>19</td>\n",
       "      <td>982</td>\n",
       "      <td>1.11 Cr</td>\n",
       "    </tr>\n",
       "    <tr>\n",
       "      <th>1860</th>\n",
       "      <td>Kalpataru Jade Residences</td>\n",
       "      <td>3</td>\n",
       "      <td>20</td>\n",
       "      <td>1350</td>\n",
       "      <td>1.8 Cr</td>\n",
       "    </tr>\n",
       "  </tbody>\n",
       "</table>\n",
       "<p>1841 rows × 5 columns</p>\n",
       "</div>"
      ],
      "text/plain": [
       "                    project_name spec floor  area    value\n",
       "0     Pride Purple Park Grandeur    4    25  3000   4.5 Cr\n",
       "1             Rahul Arcus Bldg E    4    18  2858  2.52 Cr\n",
       "2              Paranjape Yuthika    2    12  1150   1.5 Cr\n",
       "3     Pride Purple Park Grandeur    4    25  3000   4.5 Cr\n",
       "4             Rahul Arcus Bldg E    4    18  2858  2.52 Cr\n",
       "...                          ...  ...   ...   ...      ...\n",
       "1856               Supreme Estia    3    22  1620   1.5 Cr\n",
       "1857         Aditya Comfort Zone    2    13  1161   89.0 L\n",
       "1858          Shilpa Rucha Homes    1    10   675   55.0 L\n",
       "1859               Supreme Estia    3    19   982  1.11 Cr\n",
       "1860   Kalpataru Jade Residences    3    20  1350   1.8 Cr\n",
       "\n",
       "[1841 rows x 5 columns]"
      ]
     },
     "execution_count": 9,
     "metadata": {},
     "output_type": "execute_result"
    }
   ],
   "source": [
    "df2"
   ]
  },
  {
   "cell_type": "code",
   "execution_count": 10,
   "id": "d4d83e31",
   "metadata": {},
   "outputs": [],
   "source": [
    "def convert_lakh_crore(col):\n",
    "    if re.findall('L',col):\n",
    "        val=col.replace(' L','')\n",
    "        val=float(val)\n",
    "        cr=val/100\n",
    "        return cr\n",
    "    else:\n",
    "        val=col.replace(' Cr','')\n",
    "        val=float(val)\n",
    "        return val"
   ]
  },
  {
   "cell_type": "code",
   "execution_count": 11,
   "id": "44626fdf",
   "metadata": {},
   "outputs": [],
   "source": [
    "df3=df2.copy()"
   ]
  },
  {
   "cell_type": "code",
   "execution_count": 12,
   "id": "644515c2",
   "metadata": {},
   "outputs": [],
   "source": [
    "# convert value\n",
    "df3.value=df3.value.apply(convert_lakh_crore).values"
   ]
  },
  {
   "cell_type": "code",
   "execution_count": 13,
   "id": "4906e341",
   "metadata": {},
   "outputs": [
    {
     "data": {
      "text/plain": [
       "project_name     object\n",
       "spec             object\n",
       "floor            object\n",
       "area             object\n",
       "value           float64\n",
       "dtype: object"
      ]
     },
     "execution_count": 13,
     "metadata": {},
     "output_type": "execute_result"
    }
   ],
   "source": [
    "df3.dtypes"
   ]
  },
  {
   "cell_type": "code",
   "execution_count": 14,
   "id": "cd600c23",
   "metadata": {},
   "outputs": [],
   "source": [
    "# we have to change the dtype becuase here dtype of spec , floor and area is object\n",
    "df3.area=df3.area.apply(lambda x: int(x)).values\n",
    "df3.floor=df3.floor.apply(lambda x: int(x)).values\n",
    "df3.spec=df3.spec.apply(lambda x: int(x)).values"
   ]
  },
  {
   "cell_type": "code",
   "execution_count": 15,
   "id": "f951ee11",
   "metadata": {},
   "outputs": [
    {
     "data": {
      "text/plain": [
       "project_name     object\n",
       "spec              int64\n",
       "floor             int64\n",
       "area              int64\n",
       "value           float64\n",
       "dtype: object"
      ]
     },
     "execution_count": 15,
     "metadata": {},
     "output_type": "execute_result"
    }
   ],
   "source": [
    "df3.dtypes"
   ]
  },
  {
   "cell_type": "code",
   "execution_count": 16,
   "id": "1a37ee7d",
   "metadata": {},
   "outputs": [
    {
     "data": {
      "text/plain": [
       "87"
      ]
     },
     "execution_count": 16,
     "metadata": {},
     "output_type": "execute_result"
    }
   ],
   "source": [
    "len(df3.project_name.unique())"
   ]
  },
  {
   "cell_type": "code",
   "execution_count": 17,
   "id": "44baab51",
   "metadata": {},
   "outputs": [],
   "source": [
    "# we have to convert the categorical column project_name into numerical to apply ml models"
   ]
  },
  {
   "cell_type": "code",
   "execution_count": 18,
   "id": "8e6e7cab",
   "metadata": {},
   "outputs": [],
   "source": [
    "from sklearn.preprocessing import LabelEncoder"
   ]
  },
  {
   "cell_type": "code",
   "execution_count": 19,
   "id": "8a8dd145",
   "metadata": {},
   "outputs": [],
   "source": [
    "lb=LabelEncoder()\n"
   ]
  },
  {
   "cell_type": "code",
   "execution_count": 20,
   "id": "3d08bf36",
   "metadata": {},
   "outputs": [],
   "source": [
    "df4=df3.copy()"
   ]
  },
  {
   "cell_type": "code",
   "execution_count": 21,
   "id": "471a4318",
   "metadata": {},
   "outputs": [],
   "source": [
    "df4.project_name=lb.fit_transform(df4.project_name)"
   ]
  },
  {
   "cell_type": "code",
   "execution_count": 22,
   "id": "8a395749",
   "metadata": {},
   "outputs": [
    {
     "data": {
      "text/html": [
       "<div>\n",
       "<style scoped>\n",
       "    .dataframe tbody tr th:only-of-type {\n",
       "        vertical-align: middle;\n",
       "    }\n",
       "\n",
       "    .dataframe tbody tr th {\n",
       "        vertical-align: top;\n",
       "    }\n",
       "\n",
       "    .dataframe thead th {\n",
       "        text-align: right;\n",
       "    }\n",
       "</style>\n",
       "<table border=\"1\" class=\"dataframe\">\n",
       "  <thead>\n",
       "    <tr style=\"text-align: right;\">\n",
       "      <th></th>\n",
       "      <th>project_name</th>\n",
       "      <th>spec</th>\n",
       "      <th>floor</th>\n",
       "      <th>area</th>\n",
       "      <th>value</th>\n",
       "    </tr>\n",
       "  </thead>\n",
       "  <tbody>\n",
       "    <tr>\n",
       "      <th>0</th>\n",
       "      <td>51</td>\n",
       "      <td>4</td>\n",
       "      <td>25</td>\n",
       "      <td>3000</td>\n",
       "      <td>4.50</td>\n",
       "    </tr>\n",
       "    <tr>\n",
       "      <th>1</th>\n",
       "      <td>56</td>\n",
       "      <td>4</td>\n",
       "      <td>18</td>\n",
       "      <td>2858</td>\n",
       "      <td>2.52</td>\n",
       "    </tr>\n",
       "    <tr>\n",
       "      <th>2</th>\n",
       "      <td>43</td>\n",
       "      <td>2</td>\n",
       "      <td>12</td>\n",
       "      <td>1150</td>\n",
       "      <td>1.50</td>\n",
       "    </tr>\n",
       "    <tr>\n",
       "      <th>3</th>\n",
       "      <td>51</td>\n",
       "      <td>4</td>\n",
       "      <td>25</td>\n",
       "      <td>3000</td>\n",
       "      <td>4.50</td>\n",
       "    </tr>\n",
       "    <tr>\n",
       "      <th>4</th>\n",
       "      <td>56</td>\n",
       "      <td>4</td>\n",
       "      <td>18</td>\n",
       "      <td>2858</td>\n",
       "      <td>2.52</td>\n",
       "    </tr>\n",
       "    <tr>\n",
       "      <th>...</th>\n",
       "      <td>...</td>\n",
       "      <td>...</td>\n",
       "      <td>...</td>\n",
       "      <td>...</td>\n",
       "      <td>...</td>\n",
       "    </tr>\n",
       "    <tr>\n",
       "      <th>1856</th>\n",
       "      <td>77</td>\n",
       "      <td>3</td>\n",
       "      <td>22</td>\n",
       "      <td>1620</td>\n",
       "      <td>1.50</td>\n",
       "    </tr>\n",
       "    <tr>\n",
       "      <th>1857</th>\n",
       "      <td>3</td>\n",
       "      <td>2</td>\n",
       "      <td>13</td>\n",
       "      <td>1161</td>\n",
       "      <td>0.89</td>\n",
       "    </tr>\n",
       "    <tr>\n",
       "      <th>1858</th>\n",
       "      <td>69</td>\n",
       "      <td>1</td>\n",
       "      <td>10</td>\n",
       "      <td>675</td>\n",
       "      <td>0.55</td>\n",
       "    </tr>\n",
       "    <tr>\n",
       "      <th>1859</th>\n",
       "      <td>77</td>\n",
       "      <td>3</td>\n",
       "      <td>19</td>\n",
       "      <td>982</td>\n",
       "      <td>1.11</td>\n",
       "    </tr>\n",
       "    <tr>\n",
       "      <th>1860</th>\n",
       "      <td>19</td>\n",
       "      <td>3</td>\n",
       "      <td>20</td>\n",
       "      <td>1350</td>\n",
       "      <td>1.80</td>\n",
       "    </tr>\n",
       "  </tbody>\n",
       "</table>\n",
       "<p>1841 rows × 5 columns</p>\n",
       "</div>"
      ],
      "text/plain": [
       "      project_name  spec  floor  area  value\n",
       "0               51     4     25  3000   4.50\n",
       "1               56     4     18  2858   2.52\n",
       "2               43     2     12  1150   1.50\n",
       "3               51     4     25  3000   4.50\n",
       "4               56     4     18  2858   2.52\n",
       "...            ...   ...    ...   ...    ...\n",
       "1856            77     3     22  1620   1.50\n",
       "1857             3     2     13  1161   0.89\n",
       "1858            69     1     10   675   0.55\n",
       "1859            77     3     19   982   1.11\n",
       "1860            19     3     20  1350   1.80\n",
       "\n",
       "[1841 rows x 5 columns]"
      ]
     },
     "execution_count": 22,
     "metadata": {},
     "output_type": "execute_result"
    }
   ],
   "source": [
    "df4"
   ]
  },
  {
   "cell_type": "markdown",
   "id": "c6c61cfe",
   "metadata": {},
   "source": [
    "# Now our data is ready for training"
   ]
  },
  {
   "cell_type": "code",
   "execution_count": 23,
   "id": "59677851",
   "metadata": {},
   "outputs": [],
   "source": [
    "from sklearn.model_selection import train_test_split\n",
    "from sklearn.linear_model import LinearRegression\n",
    "from sklearn.tree import DecisionTreeRegressor\n",
    "from sklearn.ensemble import RandomForestRegressor\n",
    "from sklearn.svm import SVR"
   ]
  },
  {
   "cell_type": "code",
   "execution_count": 24,
   "id": "aaa109fe",
   "metadata": {},
   "outputs": [],
   "source": [
    "x=df4.drop('value',axis=1)\n",
    "y=df4['value']"
   ]
  },
  {
   "cell_type": "code",
   "execution_count": 25,
   "id": "853c2cc0",
   "metadata": {},
   "outputs": [],
   "source": [
    "x_train,x_test,y_train,y_test=train_test_split(x,y)"
   ]
  },
  {
   "cell_type": "code",
   "execution_count": 26,
   "id": "24439eef",
   "metadata": {},
   "outputs": [],
   "source": [
    "lr=LinearRegression()\n",
    "dr=DecisionTreeRegressor()\n",
    "rf=RandomForestRegressor()\n",
    "# svr=SVR(kernel='linear',gamma='auto')\n",
    "svr=SVR()\n"
   ]
  },
  {
   "cell_type": "markdown",
   "id": "cd014d5b",
   "metadata": {},
   "source": [
    "### linear regression"
   ]
  },
  {
   "cell_type": "code",
   "execution_count": 27,
   "id": "730651d4",
   "metadata": {},
   "outputs": [
    {
     "data": {
      "text/plain": [
       "LinearRegression()"
      ]
     },
     "execution_count": 27,
     "metadata": {},
     "output_type": "execute_result"
    }
   ],
   "source": [
    "lr.fit(x_train,y_train)"
   ]
  },
  {
   "cell_type": "code",
   "execution_count": 28,
   "id": "402af4a9",
   "metadata": {
    "scrolled": true
   },
   "outputs": [
    {
     "data": {
      "text/plain": [
       "0.8413051002720572"
      ]
     },
     "execution_count": 28,
     "metadata": {},
     "output_type": "execute_result"
    }
   ],
   "source": [
    "lr.score(x_test,y_test)"
   ]
  },
  {
   "cell_type": "markdown",
   "id": "acc40ef7",
   "metadata": {},
   "source": [
    "### decision tree"
   ]
  },
  {
   "cell_type": "code",
   "execution_count": 29,
   "id": "6e494587",
   "metadata": {},
   "outputs": [
    {
     "data": {
      "text/plain": [
       "DecisionTreeRegressor()"
      ]
     },
     "execution_count": 29,
     "metadata": {},
     "output_type": "execute_result"
    }
   ],
   "source": [
    "dr.fit(x_train,y_train)"
   ]
  },
  {
   "cell_type": "code",
   "execution_count": 30,
   "id": "46b544dc",
   "metadata": {},
   "outputs": [
    {
     "data": {
      "text/plain": [
       "0.9982300637890952"
      ]
     },
     "execution_count": 30,
     "metadata": {},
     "output_type": "execute_result"
    }
   ],
   "source": [
    "dr.score(x_test,y_test)"
   ]
  },
  {
   "cell_type": "markdown",
   "id": "aa169631",
   "metadata": {},
   "source": [
    "### random forest"
   ]
  },
  {
   "cell_type": "code",
   "execution_count": 31,
   "id": "fa80ffc7",
   "metadata": {},
   "outputs": [
    {
     "data": {
      "text/plain": [
       "RandomForestRegressor()"
      ]
     },
     "execution_count": 31,
     "metadata": {},
     "output_type": "execute_result"
    }
   ],
   "source": [
    "rf.fit(x_train,y_train)"
   ]
  },
  {
   "cell_type": "code",
   "execution_count": 32,
   "id": "852483fe",
   "metadata": {},
   "outputs": [
    {
     "data": {
      "text/plain": [
       "0.9980311732694452"
      ]
     },
     "execution_count": 32,
     "metadata": {},
     "output_type": "execute_result"
    }
   ],
   "source": [
    "rf.score(x_test,y_test)"
   ]
  },
  {
   "cell_type": "markdown",
   "id": "9b734092",
   "metadata": {},
   "source": [
    "### SVM"
   ]
  },
  {
   "cell_type": "code",
   "execution_count": 35,
   "id": "ba33bef9",
   "metadata": {},
   "outputs": [
    {
     "data": {
      "text/plain": [
       "SVR()"
      ]
     },
     "execution_count": 35,
     "metadata": {},
     "output_type": "execute_result"
    }
   ],
   "source": [
    "svr.fit(x_train,y_train)\n"
   ]
  },
  {
   "cell_type": "code",
   "execution_count": 36,
   "id": "f2be0dca",
   "metadata": {},
   "outputs": [
    {
     "data": {
      "text/plain": [
       "0.8162198444990156"
      ]
     },
     "execution_count": 36,
     "metadata": {},
     "output_type": "execute_result"
    }
   ],
   "source": [
    "svr.score(x_test,y_test)"
   ]
  },
  {
   "cell_type": "markdown",
   "id": "a7c6ec1e",
   "metadata": {},
   "source": [
    "##### save the clean data without duplicates"
   ]
  },
  {
   "cell_type": "code",
   "execution_count": 38,
   "id": "effaa209",
   "metadata": {},
   "outputs": [],
   "source": [
    "df5=df.drop_duplicates()"
   ]
  },
  {
   "cell_type": "code",
   "execution_count": 41,
   "id": "68ab0586",
   "metadata": {},
   "outputs": [],
   "source": [
    "df5.to_csv('final_data_without_duplicates.csv',index=None)\n"
   ]
  },
  {
   "cell_type": "code",
   "execution_count": null,
   "id": "f38f52e4",
   "metadata": {},
   "outputs": [],
   "source": []
  }
 ],
 "metadata": {
  "kernelspec": {
   "display_name": "Python 3",
   "language": "python",
   "name": "python3"
  },
  "language_info": {
   "codemirror_mode": {
    "name": "ipython",
    "version": 3
   },
   "file_extension": ".py",
   "mimetype": "text/x-python",
   "name": "python",
   "nbconvert_exporter": "python",
   "pygments_lexer": "ipython3",
   "version": "3.8.8"
  }
 },
 "nbformat": 4,
 "nbformat_minor": 5
}
